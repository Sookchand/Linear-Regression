{
  "nbformat": 4,
  "nbformat_minor": 0,
  "metadata": {
    "colab": {
      "name": "Linear Regression.ipynb",
      "provenance": [],
      "collapsed_sections": [],
      "authorship_tag": "ABX9TyMdONjyk3X2LRCMGXh6HQoR",
      "include_colab_link": true
    },
    "kernelspec": {
      "name": "python3",
      "display_name": "Python 3"
    }
  },
  "cells": [
    {
      "cell_type": "markdown",
      "metadata": {
        "id": "view-in-github",
        "colab_type": "text"
      },
      "source": [
        "<a href=\"https://colab.research.google.com/github/Sookchand/Linear-Regression/blob/main/Linear_Regression.ipynb\" target=\"_parent\"><img src=\"https://colab.research.google.com/assets/colab-badge.svg\" alt=\"Open In Colab\"/></a>"
      ]
    },
    {
      "cell_type": "markdown",
      "metadata": {
        "id": "WmetGF4FC157"
      },
      "source": [
        "# Linear Regression\n",
        "\n",
        "1. Load the data(x and Y). it may involve data preprocessing\n",
        "2. Instantiate the model. This model does not have \"activation\"\n",
        "3. Train (\"fit the model)the model\n",
        "4. Evaluate the model\n",
        "\n",
        "# No Activation Function\n",
        "\n",
        "model = tf.keras.models.Sequential([ tf.keras.layers.Input(shape = (1, )), tf.keras.layers.Dense(1) ])\n",
        "\n",
        "Note: activation = None is the default value\n",
        "\n",
        "# Stochastic Gradient Decent(SGD)\n",
        "\n",
        "model.compile(optimizer = tf.keras.optimizers.SGD(0.001, 0.9). loss = \"mse\"\n",
        "\n",
        "Why? on the coming data set \"Adam\" did not do well."
      ]
    },
    {
      "cell_type": "code",
      "metadata": {
        "id": "KgXcCieqDQcG"
      },
      "source": [
        "# Imports\n",
        "import pandas as pd\n",
        "import numpy as np\n",
        "import matplotlib.pyplot as plt\n",
        "import tensorflow as tf"
      ],
      "execution_count": 1,
      "outputs": []
    },
    {
      "cell_type": "code",
      "metadata": {
        "id": "x8SPsAq7DRRE",
        "outputId": "a5deb326-639b-4c33-d815-76156bbeb601",
        "colab": {
          "base_uri": "https://localhost:8080/",
          "height": 202
        }
      },
      "source": [
        "# Get the data\n",
        "!wget https://raw.githubusercontent.com/lazyprogrammer/machine_learning_examples/master/tf2.0/moore.csv\n"
      ],
      "execution_count": 2,
      "outputs": [
        {
          "output_type": "stream",
          "text": [
            "--2020-10-26 19:01:20--  https://raw.githubusercontent.com/lazyprogrammer/machine_learning_examples/master/tf2.0/moore.csv\n",
            "Resolving raw.githubusercontent.com (raw.githubusercontent.com)... 151.101.0.133, 151.101.64.133, 151.101.128.133, ...\n",
            "Connecting to raw.githubusercontent.com (raw.githubusercontent.com)|151.101.0.133|:443... connected.\n",
            "HTTP request sent, awaiting response... 200 OK\n",
            "Length: 2302 (2.2K) [text/plain]\n",
            "Saving to: ‘moore.csv’\n",
            "\n",
            "\rmoore.csv             0%[                    ]       0  --.-KB/s               \rmoore.csv           100%[===================>]   2.25K  --.-KB/s    in 0s      \n",
            "\n",
            "2020-10-26 19:01:20 (36.3 MB/s) - ‘moore.csv’ saved [2302/2302]\n",
            "\n"
          ],
          "name": "stdout"
        }
      ]
    },
    {
      "cell_type": "code",
      "metadata": {
        "id": "k9KOcOF_JfFV",
        "outputId": "fe4543f0-39c0-4fc9-d8ac-4829aff5ad4b",
        "colab": {
          "base_uri": "https://localhost:8080/",
          "height": 34
        }
      },
      "source": [
        "# Load in data\n",
        "data = pd.read_csv(\"moore.csv\", header = None).values\n",
        "data.shape\n",
        "\n"
      ],
      "execution_count": 3,
      "outputs": [
        {
          "output_type": "execute_result",
          "data": {
            "text/plain": [
              "(162, 2)"
            ]
          },
          "metadata": {
            "tags": []
          },
          "execution_count": 3
        }
      ]
    },
    {
      "cell_type": "code",
      "metadata": {
        "id": "OGzKZNP6KQyq"
      },
      "source": [
        "x = data[:,0].reshape(-1, 1) # Make it a 2-d array where size N * D where D = 1\n",
        "y = data[:,1]"
      ],
      "execution_count": 4,
      "outputs": []
    },
    {
      "cell_type": "code",
      "metadata": {
        "id": "LpdFS4C6LN0x",
        "outputId": "83e2c1e2-008f-407c-8607-2a7b4bbb4043",
        "colab": {
          "base_uri": "https://localhost:8080/",
          "height": 293
        }
      },
      "source": [
        "# plot the data\n",
        "plt.scatter(x, y)"
      ],
      "execution_count": 5,
      "outputs": [
        {
          "output_type": "execute_result",
          "data": {
            "text/plain": [
              "<matplotlib.collections.PathCollection at 0x7fdaf3f15400>"
            ]
          },
          "metadata": {
            "tags": []
          },
          "execution_count": 5
        },
        {
          "output_type": "display_data",
          "data": {
            "image/png": "[encoded data removed]",
            "text/plain": [
              "<Figure size 432x288 with 1 Axes>"
            ]
          },
          "metadata": {
            "tags": [],
            "needs_background": "light"
          }
        }
      ]
    },
    {
      "cell_type": "code",
      "metadata": {
        "id": "u3G2b2KILcQ8",
        "outputId": "f6a0358a-6961-411d-cf58-c0164f80b493",
        "colab": {
          "base_uri": "https://localhost:8080/",
          "height": 265
        }
      },
      "source": [
        "# since we want a linear model lets take the log\n",
        "y = np.log(y)\n",
        "plt.scatter(x, y);"
      ],
      "execution_count": 6,
      "outputs": [
        {
          "output_type": "display_data",
          "data": {
            "image/png": "[encoded data removed]",
            "text/plain": [
              "<Figure size 432x288 with 1 Axes>"
            ]
          },
          "metadata": {
            "tags": [],
            "needs_background": "light"
          }
        }
      ]
    },
    {
      "cell_type": "code",
      "metadata": {
        "id": "7GIp_ufiL2Mr"
      },
      "source": [
        "# Let's also center the X data so the values are not too large\n",
        "# We could scale it too but then we'd have to reverse the transformation later\n",
        "x = x - x.mean()"
      ],
      "execution_count": 7,
      "outputs": []
    },
    {
      "cell_type": "code",
      "metadata": {
        "id": "C4eG35IEMIbm",
        "outputId": "21e1fdf5-149b-43aa-d4be-a215bc88781c",
        "colab": {
          "base_uri": "https://localhost:8080/",
          "height": 1000
        }
      },
      "source": [
        "# Now create our Tensorflow model\n",
        "model = tf.keras.models.Sequential([\n",
        "  tf.keras.layers.Input(shape=(1,)),\n",
        "  tf.keras.layers.Dense(1)\n",
        "])\n",
        "\n",
        "model.compile(optimizer=tf.keras.optimizers.SGD(0.001, 0.9), loss='mse')\n",
        "# model.compile(optimizer='adam', loss='mse')\n",
        "\n",
        "\n",
        "# learning rate scheduler\n",
        "def schedule(epoch, lr):\n",
        "  if epoch >= 50:\n",
        "    return 0.0001\n",
        "  return 0.001\n",
        " \n",
        "\n",
        "scheduler = tf.keras.callbacks.LearningRateScheduler(schedule)\n",
        "\n",
        "\n",
        "# Train the model\n",
        "r = model.fit(x, y, epochs=200, callbacks=[scheduler])\n"
      ],
      "execution_count": 8,
      "outputs": [
        {
          "output_type": "stream",
          "text": [
            "Epoch 1/200\n",
            "6/6 [==============================] - 0s 2ms/step - loss: 410.7993\n",
            "Epoch 2/200\n",
            "6/6 [==============================] - 0s 1ms/step - loss: 304.9754\n",
            "Epoch 3/200\n",
            "6/6 [==============================] - 0s 2ms/step - loss: 256.1389\n",
            "Epoch 4/200\n",
            "6/6 [==============================] - 0s 2ms/step - loss: 225.8505\n",
            "Epoch 5/200\n",
            "6/6 [==============================] - 0s 1ms/step - loss: 178.0637\n",
            "Epoch 6/200\n",
            "6/6 [==============================] - 0s 973us/step - loss: 152.5716\n",
            "Epoch 7/200\n",
            "6/6 [==============================] - 0s 1ms/step - loss: 110.5361\n",
            "Epoch 8/200\n",
            "6/6 [==============================] - 0s 1ms/step - loss: 73.6961\n",
            "Epoch 9/200\n",
            "6/6 [==============================] - 0s 1ms/step - loss: 74.5249\n",
            "Epoch 10/200\n",
            "6/6 [==============================] - 0s 1ms/step - loss: 87.1386\n",
            "Epoch 11/200\n",
            "6/6 [==============================] - 0s 1ms/step - loss: 87.9429\n",
            "Epoch 12/200\n",
            "6/6 [==============================] - 0s 1ms/step - loss: 37.4272\n",
            "Epoch 13/200\n",
            "6/6 [==============================] - 0s 1ms/step - loss: 35.0858\n",
            "Epoch 14/200\n",
            "6/6 [==============================] - 0s 1ms/step - loss: 26.0344\n",
            "Epoch 15/200\n",
            "6/6 [==============================] - 0s 1ms/step - loss: 11.8137\n",
            "Epoch 16/200\n",
            "6/6 [==============================] - 0s 2ms/step - loss: 8.2375\n",
            "Epoch 17/200\n",
            "6/6 [==============================] - 0s 2ms/step - loss: 7.0842\n",
            "Epoch 18/200\n",
            "6/6 [==============================] - 0s 2ms/step - loss: 5.6325\n",
            "Epoch 19/200\n",
            "6/6 [==============================] - 0s 1ms/step - loss: 3.6825\n",
            "Epoch 20/200\n",
            "6/6 [==============================] - 0s 4ms/step - loss: 2.6392\n",
            "Epoch 21/200\n",
            "6/6 [==============================] - 0s 2ms/step - loss: 2.6211\n",
            "Epoch 22/200\n",
            "6/6 [==============================] - 0s 1ms/step - loss: 2.3116\n",
            "Epoch 23/200\n",
            "6/6 [==============================] - 0s 1ms/step - loss: 2.0702\n",
            "Epoch 24/200\n",
            "6/6 [==============================] - 0s 2ms/step - loss: 1.4341\n",
            "Epoch 25/200\n",
            "6/6 [==============================] - 0s 1ms/step - loss: 1.2270\n",
            "Epoch 26/200\n",
            "6/6 [==============================] - 0s 1ms/step - loss: 1.1300\n",
            "Epoch 27/200\n",
            "6/6 [==============================] - 0s 2ms/step - loss: 1.1482\n",
            "Epoch 28/200\n",
            "6/6 [==============================] - 0s 2ms/step - loss: 1.0727\n",
            "Epoch 29/200\n",
            "6/6 [==============================] - 0s 2ms/step - loss: 0.9896\n",
            "Epoch 30/200\n",
            "6/6 [==============================] - 0s 1ms/step - loss: 0.9662\n",
            "Epoch 31/200\n",
            "6/6 [==============================] - 0s 2ms/step - loss: 1.0224\n",
            "Epoch 32/200\n",
            "6/6 [==============================] - 0s 2ms/step - loss: 1.0011\n",
            "Epoch 33/200\n",
            "6/6 [==============================] - 0s 2ms/step - loss: 1.1072\n",
            "Epoch 34/200\n",
            "6/6 [==============================] - 0s 2ms/step - loss: 0.9957\n",
            "Epoch 35/200\n",
            "6/6 [==============================] - 0s 2ms/step - loss: 1.1046\n",
            "Epoch 36/200\n",
            "6/6 [==============================] - 0s 2ms/step - loss: 1.2651\n",
            "Epoch 37/200\n",
            "6/6 [==============================] - 0s 1ms/step - loss: 1.0901\n",
            "Epoch 38/200\n",
            "6/6 [==============================] - 0s 1ms/step - loss: 0.9424\n",
            "Epoch 39/200\n",
            "6/6 [==============================] - 0s 2ms/step - loss: 1.1933\n",
            "Epoch 40/200\n",
            "6/6 [==============================] - 0s 1ms/step - loss: 1.3595\n",
            "Epoch 41/200\n",
            "6/6 [==============================] - 0s 1ms/step - loss: 1.0868\n",
            "Epoch 42/200\n",
            "6/6 [==============================] - 0s 1ms/step - loss: 0.9583\n",
            "Epoch 43/200\n",
            "6/6 [==============================] - 0s 1ms/step - loss: 1.0001\n",
            "Epoch 44/200\n",
            "6/6 [==============================] - 0s 1ms/step - loss: 0.9137\n",
            "Epoch 45/200\n",
            "6/6 [==============================] - 0s 1ms/step - loss: 1.1859\n",
            "Epoch 46/200\n",
            "6/6 [==============================] - 0s 1ms/step - loss: 1.4509\n",
            "Epoch 47/200\n",
            "6/6 [==============================] - 0s 1ms/step - loss: 1.2693\n",
            "Epoch 48/200\n",
            "6/6 [==============================] - 0s 2ms/step - loss: 1.1110\n",
            "Epoch 49/200\n",
            "6/6 [==============================] - 0s 1ms/step - loss: 1.1701\n",
            "Epoch 50/200\n",
            "6/6 [==============================] - 0s 2ms/step - loss: 0.8771\n",
            "Epoch 51/200\n",
            "6/6 [==============================] - 0s 3ms/step - loss: 0.8812\n",
            "Epoch 52/200\n",
            "6/6 [==============================] - 0s 2ms/step - loss: 0.8848\n",
            "Epoch 53/200\n",
            "6/6 [==============================] - 0s 2ms/step - loss: 0.8807\n",
            "Epoch 54/200\n",
            "6/6 [==============================] - 0s 2ms/step - loss: 0.8809\n",
            "Epoch 55/200\n",
            "6/6 [==============================] - 0s 2ms/step - loss: 0.8664\n",
            "Epoch 56/200\n",
            "6/6 [==============================] - 0s 2ms/step - loss: 0.8732\n",
            "Epoch 57/200\n",
            "6/6 [==============================] - 0s 2ms/step - loss: 0.8738\n",
            "Epoch 58/200\n",
            "6/6 [==============================] - 0s 2ms/step - loss: 0.8741\n",
            "Epoch 59/200\n",
            "6/6 [==============================] - 0s 2ms/step - loss: 0.8743\n",
            "Epoch 60/200\n",
            "6/6 [==============================] - 0s 2ms/step - loss: 0.9056\n",
            "Epoch 61/200\n",
            "6/6 [==============================] - 0s 2ms/step - loss: 0.9177\n",
            "Epoch 62/200\n",
            "6/6 [==============================] - 0s 1ms/step - loss: 0.8900\n",
            "Epoch 63/200\n",
            "6/6 [==============================] - 0s 2ms/step - loss: 0.8709\n",
            "Epoch 64/200\n",
            "6/6 [==============================] - 0s 2ms/step - loss: 0.8803\n",
            "Epoch 65/200\n",
            "6/6 [==============================] - 0s 2ms/step - loss: 0.8767\n",
            "Epoch 66/200\n",
            "6/6 [==============================] - 0s 2ms/step - loss: 0.8852\n",
            "Epoch 67/200\n",
            "6/6 [==============================] - 0s 2ms/step - loss: 0.8889\n",
            "Epoch 68/200\n",
            "6/6 [==============================] - 0s 2ms/step - loss: 0.8741\n",
            "Epoch 69/200\n",
            "6/6 [==============================] - 0s 1ms/step - loss: 0.8742\n",
            "Epoch 70/200\n",
            "6/6 [==============================] - 0s 2ms/step - loss: 0.8835\n",
            "Epoch 71/200\n",
            "6/6 [==============================] - 0s 2ms/step - loss: 0.8732\n",
            "Epoch 72/200\n",
            "6/6 [==============================] - 0s 2ms/step - loss: 0.8709\n",
            "Epoch 73/200\n",
            "6/6 [==============================] - 0s 3ms/step - loss: 0.8724\n",
            "Epoch 74/200\n",
            "6/6 [==============================] - 0s 2ms/step - loss: 0.8728\n",
            "Epoch 75/200\n",
            "6/6 [==============================] - 0s 2ms/step - loss: 0.8705\n",
            "Epoch 76/200\n",
            "6/6 [==============================] - 0s 2ms/step - loss: 0.8752\n",
            "Epoch 77/200\n",
            "6/6 [==============================] - 0s 2ms/step - loss: 0.8734\n",
            "Epoch 78/200\n",
            "6/6 [==============================] - 0s 3ms/step - loss: 0.8801\n",
            "Epoch 79/200\n",
            "6/6 [==============================] - 0s 3ms/step - loss: 0.8918\n",
            "Epoch 80/200\n",
            "6/6 [==============================] - 0s 2ms/step - loss: 0.8749\n",
            "Epoch 81/200\n",
            "6/6 [==============================] - 0s 2ms/step - loss: 0.8729\n",
            "Epoch 82/200\n",
            "6/6 [==============================] - 0s 2ms/step - loss: 0.8804\n",
            "Epoch 83/200\n",
            "6/6 [==============================] - 0s 2ms/step - loss: 0.8821\n",
            "Epoch 84/200\n",
            "6/6 [==============================] - 0s 2ms/step - loss: 0.8728\n",
            "Epoch 85/200\n",
            "6/6 [==============================] - 0s 3ms/step - loss: 0.8756\n",
            "Epoch 86/200\n",
            "6/6 [==============================] - 0s 2ms/step - loss: 0.8694\n",
            "Epoch 87/200\n",
            "6/6 [==============================] - 0s 2ms/step - loss: 0.8707\n",
            "Epoch 88/200\n",
            "6/6 [==============================] - 0s 2ms/step - loss: 0.8766\n",
            "Epoch 89/200\n",
            "6/6 [==============================] - 0s 2ms/step - loss: 0.8756\n",
            "Epoch 90/200\n",
            "6/6 [==============================] - 0s 2ms/step - loss: 0.8778\n",
            "Epoch 91/200\n",
            "6/6 [==============================] - 0s 2ms/step - loss: 0.8827\n",
            "Epoch 92/200\n",
            "6/6 [==============================] - 0s 2ms/step - loss: 0.8762\n",
            "Epoch 93/200\n",
            "6/6 [==============================] - 0s 2ms/step - loss: 0.8743\n",
            "Epoch 94/200\n",
            "6/6 [==============================] - 0s 2ms/step - loss: 0.8723\n",
            "Epoch 95/200\n",
            "6/6 [==============================] - 0s 2ms/step - loss: 0.8717\n",
            "Epoch 96/200\n",
            "6/6 [==============================] - 0s 2ms/step - loss: 0.8707\n",
            "Epoch 97/200\n",
            "6/6 [==============================] - 0s 2ms/step - loss: 0.8731\n",
            "Epoch 98/200\n",
            "6/6 [==============================] - 0s 2ms/step - loss: 0.8729\n",
            "Epoch 99/200\n",
            "6/6 [==============================] - 0s 2ms/step - loss: 0.8793\n",
            "Epoch 100/200\n",
            "6/6 [==============================] - 0s 2ms/step - loss: 0.8800\n",
            "Epoch 101/200\n",
            "6/6 [==============================] - 0s 2ms/step - loss: 0.8907\n",
            "Epoch 102/200\n",
            "6/6 [==============================] - 0s 1ms/step - loss: 0.9226\n",
            "Epoch 103/200\n",
            "6/6 [==============================] - 0s 2ms/step - loss: 0.8832\n",
            "Epoch 104/200\n",
            "6/6 [==============================] - 0s 2ms/step - loss: 0.8725\n",
            "Epoch 105/200\n",
            "6/6 [==============================] - 0s 2ms/step - loss: 0.8910\n",
            "Epoch 106/200\n",
            "6/6 [==============================] - 0s 1ms/step - loss: 0.8777\n",
            "Epoch 107/200\n",
            "6/6 [==============================] - 0s 1ms/step - loss: 0.8797\n",
            "Epoch 108/200\n",
            "6/6 [==============================] - 0s 2ms/step - loss: 0.8705\n",
            "Epoch 109/200\n",
            "6/6 [==============================] - 0s 1ms/step - loss: 0.8760\n",
            "Epoch 110/200\n",
            "6/6 [==============================] - 0s 2ms/step - loss: 0.8693\n",
            "Epoch 111/200\n",
            "6/6 [==============================] - 0s 2ms/step - loss: 0.8725\n",
            "Epoch 112/200\n",
            "6/6 [==============================] - 0s 2ms/step - loss: 0.8746\n",
            "Epoch 113/200\n",
            "6/6 [==============================] - 0s 2ms/step - loss: 0.9022\n",
            "Epoch 114/200\n",
            "6/6 [==============================] - 0s 2ms/step - loss: 0.9112\n",
            "Epoch 115/200\n",
            "6/6 [==============================] - 0s 2ms/step - loss: 0.8729\n",
            "Epoch 116/200\n",
            "6/6 [==============================] - 0s 1ms/step - loss: 0.8754\n",
            "Epoch 117/200\n",
            "6/6 [==============================] - 0s 2ms/step - loss: 0.8739\n",
            "Epoch 118/200\n",
            "6/6 [==============================] - 0s 2ms/step - loss: 0.8759\n",
            "Epoch 119/200\n",
            "6/6 [==============================] - 0s 2ms/step - loss: 0.8765\n",
            "Epoch 120/200\n",
            "6/6 [==============================] - 0s 2ms/step - loss: 0.8823\n",
            "Epoch 121/200\n",
            "6/6 [==============================] - 0s 2ms/step - loss: 0.8855\n",
            "Epoch 122/200\n",
            "6/6 [==============================] - 0s 2ms/step - loss: 0.8747\n",
            "Epoch 123/200\n",
            "6/6 [==============================] - 0s 2ms/step - loss: 0.8747\n",
            "Epoch 124/200\n",
            "6/6 [==============================] - 0s 2ms/step - loss: 0.8710\n",
            "Epoch 125/200\n",
            "6/6 [==============================] - 0s 2ms/step - loss: 0.8745\n",
            "Epoch 126/200\n",
            "6/6 [==============================] - 0s 2ms/step - loss: 0.8739\n",
            "Epoch 127/200\n",
            "6/6 [==============================] - 0s 2ms/step - loss: 0.8734\n",
            "Epoch 128/200\n",
            "6/6 [==============================] - 0s 2ms/step - loss: 0.8679\n",
            "Epoch 129/200\n",
            "6/6 [==============================] - 0s 2ms/step - loss: 0.8775\n",
            "Epoch 130/200\n",
            "6/6 [==============================] - 0s 2ms/step - loss: 0.8855\n",
            "Epoch 131/200\n",
            "6/6 [==============================] - 0s 2ms/step - loss: 0.8670\n",
            "Epoch 132/200\n",
            "6/6 [==============================] - 0s 3ms/step - loss: 0.9144\n",
            "Epoch 133/200\n",
            "6/6 [==============================] - 0s 2ms/step - loss: 0.8934\n",
            "Epoch 134/200\n",
            "6/6 [==============================] - 0s 2ms/step - loss: 0.8892\n",
            "Epoch 135/200\n",
            "6/6 [==============================] - 0s 1ms/step - loss: 0.9214\n",
            "Epoch 136/200\n",
            "6/6 [==============================] - 0s 2ms/step - loss: 0.8966\n",
            "Epoch 137/200\n",
            "6/6 [==============================] - 0s 2ms/step - loss: 0.8666\n",
            "Epoch 138/200\n",
            "6/6 [==============================] - 0s 2ms/step - loss: 0.8823\n",
            "Epoch 139/200\n",
            "6/6 [==============================] - 0s 2ms/step - loss: 0.8932\n",
            "Epoch 140/200\n",
            "6/6 [==============================] - 0s 1ms/step - loss: 0.8727\n",
            "Epoch 141/200\n",
            "6/6 [==============================] - 0s 2ms/step - loss: 0.8829\n",
            "Epoch 142/200\n",
            "6/6 [==============================] - 0s 2ms/step - loss: 0.8769\n",
            "Epoch 143/200\n",
            "6/6 [==============================] - 0s 2ms/step - loss: 0.8706\n",
            "Epoch 144/200\n",
            "6/6 [==============================] - 0s 2ms/step - loss: 0.8779\n",
            "Epoch 145/200\n",
            "6/6 [==============================] - 0s 3ms/step - loss: 0.9031\n",
            "Epoch 146/200\n",
            "6/6 [==============================] - 0s 1ms/step - loss: 0.9062\n",
            "Epoch 147/200\n",
            "6/6 [==============================] - 0s 2ms/step - loss: 0.8817\n",
            "Epoch 148/200\n",
            "6/6 [==============================] - 0s 2ms/step - loss: 0.8850\n",
            "Epoch 149/200\n",
            "6/6 [==============================] - 0s 2ms/step - loss: 0.8751\n",
            "Epoch 150/200\n",
            "6/6 [==============================] - 0s 2ms/step - loss: 0.8750\n",
            "Epoch 151/200\n",
            "6/6 [==============================] - 0s 2ms/step - loss: 0.8770\n",
            "Epoch 152/200\n",
            "6/6 [==============================] - 0s 2ms/step - loss: 0.8738\n",
            "Epoch 153/200\n",
            "6/6 [==============================] - 0s 1ms/step - loss: 0.8752\n",
            "Epoch 154/200\n",
            "6/6 [==============================] - 0s 1ms/step - loss: 0.8774\n",
            "Epoch 155/200\n",
            "6/6 [==============================] - 0s 2ms/step - loss: 0.8716\n",
            "Epoch 156/200\n",
            "6/6 [==============================] - 0s 2ms/step - loss: 0.8777\n",
            "Epoch 157/200\n",
            "6/6 [==============================] - 0s 2ms/step - loss: 0.8746\n",
            "Epoch 158/200\n",
            "6/6 [==============================] - 0s 2ms/step - loss: 0.8695\n",
            "Epoch 159/200\n",
            "6/6 [==============================] - 0s 2ms/step - loss: 0.8855\n",
            "Epoch 160/200\n",
            "6/6 [==============================] - 0s 2ms/step - loss: 0.8802\n",
            "Epoch 161/200\n",
            "6/6 [==============================] - 0s 2ms/step - loss: 0.8757\n",
            "Epoch 162/200\n",
            "6/6 [==============================] - 0s 2ms/step - loss: 0.8727\n",
            "Epoch 163/200\n",
            "6/6 [==============================] - 0s 2ms/step - loss: 0.8719\n",
            "Epoch 164/200\n",
            "6/6 [==============================] - 0s 2ms/step - loss: 0.8727\n",
            "Epoch 165/200\n",
            "6/6 [==============================] - 0s 2ms/step - loss: 0.8709\n",
            "Epoch 166/200\n",
            "6/6 [==============================] - 0s 1ms/step - loss: 0.8738\n",
            "Epoch 167/200\n",
            "6/6 [==============================] - 0s 1ms/step - loss: 0.8734\n",
            "Epoch 168/200\n",
            "6/6 [==============================] - 0s 1ms/step - loss: 0.8714\n",
            "Epoch 169/200\n",
            "6/6 [==============================] - 0s 1ms/step - loss: 0.8708\n",
            "Epoch 170/200\n",
            "6/6 [==============================] - 0s 1ms/step - loss: 0.8714\n",
            "Epoch 171/200\n",
            "6/6 [==============================] - 0s 1ms/step - loss: 0.8726\n",
            "Epoch 172/200\n",
            "6/6 [==============================] - 0s 1ms/step - loss: 0.8744\n",
            "Epoch 173/200\n",
            "6/6 [==============================] - 0s 1ms/step - loss: 0.8716\n",
            "Epoch 174/200\n",
            "6/6 [==============================] - 0s 1ms/step - loss: 0.8704\n",
            "Epoch 175/200\n",
            "6/6 [==============================] - 0s 1ms/step - loss: 0.8802\n",
            "Epoch 176/200\n",
            "6/6 [==============================] - 0s 1ms/step - loss: 0.8806\n",
            "Epoch 177/200\n",
            "6/6 [==============================] - 0s 1ms/step - loss: 0.8737\n",
            "Epoch 178/200\n",
            "6/6 [==============================] - 0s 1ms/step - loss: 0.8802\n",
            "Epoch 179/200\n",
            "6/6 [==============================] - 0s 1ms/step - loss: 0.8751\n",
            "Epoch 180/200\n",
            "6/6 [==============================] - 0s 2ms/step - loss: 0.8689\n",
            "Epoch 181/200\n",
            "6/6 [==============================] - 0s 2ms/step - loss: 0.8755\n",
            "Epoch 182/200\n",
            "6/6 [==============================] - 0s 1ms/step - loss: 0.8730\n",
            "Epoch 183/200\n",
            "6/6 [==============================] - 0s 1ms/step - loss: 0.8716\n",
            "Epoch 184/200\n",
            "6/6 [==============================] - 0s 1ms/step - loss: 0.8720\n",
            "Epoch 185/200\n",
            "6/6 [==============================] - 0s 4ms/step - loss: 0.8719\n",
            "Epoch 186/200\n",
            "6/6 [==============================] - 0s 3ms/step - loss: 0.8742\n",
            "Epoch 187/200\n",
            "6/6 [==============================] - 0s 2ms/step - loss: 0.8781\n",
            "Epoch 188/200\n",
            "6/6 [==============================] - 0s 2ms/step - loss: 0.8700\n",
            "Epoch 189/200\n",
            "6/6 [==============================] - 0s 2ms/step - loss: 0.8801\n",
            "Epoch 190/200\n",
            "6/6 [==============================] - 0s 2ms/step - loss: 0.8715\n",
            "Epoch 191/200\n",
            "6/6 [==============================] - 0s 2ms/step - loss: 0.8996\n",
            "Epoch 192/200\n",
            "6/6 [==============================] - 0s 1ms/step - loss: 0.8802\n",
            "Epoch 193/200\n",
            "6/6 [==============================] - 0s 1ms/step - loss: 0.9318\n",
            "Epoch 194/200\n",
            "6/6 [==============================] - 0s 1ms/step - loss: 0.8960\n",
            "Epoch 195/200\n",
            "6/6 [==============================] - 0s 1ms/step - loss: 0.8753\n",
            "Epoch 196/200\n",
            "6/6 [==============================] - 0s 1ms/step - loss: 0.8829\n",
            "Epoch 197/200\n",
            "6/6 [==============================] - 0s 1ms/step - loss: 0.8787\n",
            "Epoch 198/200\n",
            "6/6 [==============================] - 0s 1ms/step - loss: 0.8723\n",
            "Epoch 199/200\n",
            "6/6 [==============================] - 0s 1ms/step - loss: 0.8710\n",
            "Epoch 200/200\n",
            "6/6 [==============================] - 0s 1ms/step - loss: 0.8826\n"
          ],
          "name": "stdout"
        }
      ]
    },
    {
      "cell_type": "code",
      "metadata": {
        "id": "M81dk1bAOdVt",
        "outputId": "c8234c65-8930-4ec8-b149-2748ae9d7bd1",
        "colab": {
          "base_uri": "https://localhost:8080/",
          "height": 265
        }
      },
      "source": [
        "# Plot loss value\n",
        "plt.plot(r.history[\"loss\"], label =\"loss\");"
      ],
      "execution_count": 11,
      "outputs": [
        {
          "output_type": "display_data",
          "data": {
            "image/png": "[encoded data removed]",
            "text/plain": [
              "<Figure size 432x288 with 1 Axes>"
            ]
          },
          "metadata": {
            "tags": [],
            "needs_background": "light"
          }
        }
      ]
    },
    {
      "cell_type": "code",
      "metadata": {
        "id": "QKcEqTxMTPF1",
        "outputId": "68076a4c-8379-4b64-a52a-cece4934fe47",
        "colab": {
          "base_uri": "https://localhost:8080/",
          "height": 50
        }
      },
      "source": [
        "# Get the slope of the line\n",
        "# The slope of the line is equal to the double rating of the transistor\n",
        "print(model.layers) # Note: there is only one layer as the input layer do not count\n",
        "print(model.layers[0].get_weights())"
      ],
      "execution_count": 13,
      "outputs": [
        {
          "output_type": "stream",
          "text": [
            "[<tensorflow.python.keras.layers.core.Dense object at 0x7fdaf3a124a8>]\n",
            "[array([[0.34698007]], dtype=float32), array([17.762793], dtype=float32)]\n"
          ],
          "name": "stdout"
        }
      ]
    },
    {
      "cell_type": "code",
      "metadata": {
        "id": "EDUhFaaIUDTw"
      },
      "source": [
        "# The slppe of the line is:\n",
        "a = model.layers[0].get_weights()[0][0, 0]"
      ],
      "execution_count": 14,
      "outputs": []
    },
    {
      "cell_type": "markdown",
      "metadata": {
        "id": "1PGoondrUpZr"
      },
      "source": [
        "Our original model for exponential growth is:\n",
        "\n",
        "C=A0rt \n",
        "\n",
        "Where  C  is transistor the count and  t  is the year.\n",
        "\n",
        "r  is the rate of growth. For example, when  t  goes from 1 to 2,  C  increases by a factor of  r . When  t  goes from 2 to 3,  C  increases by a factor of  r  again.\n",
        "\n",
        "When we take the log of both sides, we get:\n",
        "\n",
        "logC=logr∗t+logA0 \n",
        "\n",
        "This is our linear equation:\n",
        "\n",
        "y^=ax+b \n",
        "\n",
        "Where:\n",
        "\n",
        "y^=logC \n",
        "a=logr \n",
        "x=t \n",
        "b=logA0 \n",
        "\n",
        "We are interested in  r , because that's the rate of growth. Given our regression weights, we know that:\n",
        "\n",
        "a=0.34188038 \n",
        "\n",
        "so that:\n",
        "\n",
        "            r=e0.34188038=1.4076 \n",
        "\n",
        "To find the time it takes for transistor count to double, we simply need to find the amount of time it takes for  C  to increase to  2C .\n",
        "\n",
        "Let's call the original starting time  t , to correspond with the initial transistor count  C .\n",
        "\n",
        "Let's call the end time  t′ , to correspond with the final transistor count  2C .\n",
        "\n",
        "Then we also have:\n",
        "\n",
        "            2C=A0rt′ \n",
        "\n",
        "Combine this with our original equation:\n",
        "\n",
        "            C=A0rt \n",
        "\n",
        "We get (by dividing the 2 equations):\n",
        "\n",
        "            2C/C=(A0rt′)/A0rt \n",
        "\n",
        "Which simplifies to:\n",
        "\n",
        "            2=r(t′−t) \n",
        "\n",
        "Solve for  t′−t :\n",
        "\n",
        "            t′−t=log2logr=log2a"
      ]
    },
    {
      "cell_type": "code",
      "metadata": {
        "id": "0Z0OcBFlUhGQ",
        "outputId": "2136bc39-9c6b-4725-897c-a89fbdc710c2",
        "colab": {
          "base_uri": "https://localhost:8080/",
          "height": 34
        }
      },
      "source": [
        "print(\"time to double:\", np.log(2)/a)"
      ],
      "execution_count": 16,
      "outputs": [
        {
          "output_type": "stream",
          "text": [
            "time to double: 1.9976570710063866\n"
          ],
          "name": "stdout"
        }
      ]
    },
    {
      "cell_type": "code",
      "metadata": {
        "id": "RDctcBPMVxM9",
        "outputId": "8e733da5-db07-4a09-8a83-6fe8bb28ee57",
        "colab": {
          "base_uri": "https://localhost:8080/",
          "height": 50
        }
      },
      "source": [
        "# If you know the analytical solution\n",
        "x = np.array(x).flatten()\n",
        "y = np.array(y)\n",
        "denominator = x.dot(x) - x.mean() * x.sum()\n",
        "a = (x.dot(y) - y.mean() * x.sum()) / denominator\n",
        "b = (x.dot(y) - x.mean() * x.dot(y))/denominator\n",
        "print(a, b)\n",
        "print(\"time to Double:\", np.log(2) / a)"
      ],
      "execution_count": 20,
      "outputs": [
        {
          "output_type": "stream",
          "text": [
            "0.341682487387313 0.34168248738729573\n",
            "time to Double: 2.0286295205239204\n"
          ],
          "name": "stdout"
        }
      ]
    },
    {
      "cell_type": "markdown",
      "metadata": {
        "id": "0kWl0CSoYM_J"
      },
      "source": [
        "# Making Prediction\n"
      ]
    },
    {
      "cell_type": "code",
      "metadata": {
        "id": "MyViSAZgXFJX",
        "outputId": "cd8dde40-8c42-439d-9ede-098e5838c30a",
        "colab": {
          "base_uri": "https://localhost:8080/",
          "height": 265
        }
      },
      "source": [
        "# Making sure the line fits the data\n",
        "yhat = model.predict(x).flatten()\n",
        "plt.scatter(x, y)\n",
        "plt.plot(x, yhat);"
      ],
      "execution_count": 21,
      "outputs": [
        {
          "output_type": "display_data",
          "data": {
            "image/png": "[encoded data removed]",
            "text/plain": [
              "<Figure size 432x288 with 1 Axes>"
            ]
          },
          "metadata": {
            "tags": [],
            "needs_background": "light"
          }
        }
      ]
    },
    {
      "cell_type": "code",
      "metadata": {
        "id": "vCL8iUzlY3rk",
        "outputId": "cbab6145-6613-48d9-e5f0-f44bf255c445",
        "colab": {
          "base_uri": "https://localhost:8080/",
          "height": 34
        }
      },
      "source": [
        "# Manual calculation\n",
        "\n",
        "# Get the weights\n",
        "w, b = model.layers[0].get_weights()\n",
        "\n",
        "# reshape x becuase we flatten it earlier\n",
        "x = x.reshape(-1, 1)\n",
        "\n",
        "# (N x 1) (1 x 1) ---> (N x 1)\n",
        "yhat2 = (x.dot(w) + b).flatten()\n",
        "\n",
        "# Do not use == for floating points\n",
        "np.allclose(yhat, yhat2)"
      ],
      "execution_count": 22,
      "outputs": [
        {
          "output_type": "execute_result",
          "data": {
            "text/plain": [
              "True"
            ]
          },
          "metadata": {
            "tags": []
          },
          "execution_count": 22
        }
      ]
    },
    {
      "cell_type": "markdown",
      "metadata": {
        "id": "GwUM6L7CiO8X"
      },
      "source": [
        "# Making Prediction 2\n",
        "\n"
      ]
    },
    {
      "cell_type": "code",
      "metadata": {
        "id": "G4p8h1lwZ8x-",
        "outputId": "72d69aba-08f7-40f6-e573-2c9e0b2c9eb8",
        "colab": {
          "base_uri": "https://localhost:8080/",
          "height": 282
        }
      },
      "source": [
        "# Make sure the line fits our data\n",
        "yhat = model.predict(x).flatten()\n",
        "plt.scatter(x, y)\n",
        "plt.plot(x, yhat)"
      ],
      "execution_count": 24,
      "outputs": [
        {
          "output_type": "execute_result",
          "data": {
            "text/plain": [
              "[<matplotlib.lines.Line2D at 0x7fdae2c59630>]"
            ]
          },
          "metadata": {
            "tags": []
          },
          "execution_count": 24
        },
        {
          "output_type": "display_data",
          "data": {
            "image/png": "[encoded data removed]",
            "text/plain": [
              "<Figure size 432x288 with 1 Axes>"
            ]
          },
          "metadata": {
            "tags": [],
            "needs_background": "light"
          }
        }
      ]
    },
    {
      "cell_type": "code",
      "metadata": {
        "id": "kEit8oAfjaYA",
        "outputId": "c8f8ab1b-7492-4267-b839-e2d62ee055ba",
        "colab": {
          "base_uri": "https://localhost:8080/",
          "height": 34
        }
      },
      "source": [
        "# Manual calculation\n",
        "# Get the weights\n",
        "w, b = model.layers[0].get_weights()\n",
        "\n",
        "# reshape x becuase we flatten it earlier\n",
        "x = x.reshape(-1, 1)\n",
        "\n",
        "# (N x 1) x (1, 1) + (1)---> (N x 1)\n",
        "yhat2 = (x.dot(w) + b).flatten()\n",
        "\n",
        "# do not use == for floating points\n",
        "np.allclose(yhat, yhat2)"
      ],
      "execution_count": 26,
      "outputs": [
        {
          "output_type": "execute_result",
          "data": {
            "text/plain": [
              "True"
            ]
          },
          "metadata": {
            "tags": []
          },
          "execution_count": 26
        }
      ]
    },
    {
      "cell_type": "code",
      "metadata": {
        "id": "0FyJHIPCocMT"
      },
      "source": [
        "# Lets save the mdoel to the file\n",
        "model.save(\"linearregression.h5\")"
      ],
      "execution_count": 27,
      "outputs": []
    },
    {
      "cell_type": "code",
      "metadata": {
        "id": "4sPDcW_3t9ht",
        "outputId": "57187844-7813-4f31-f055-a7d03199f8e0",
        "colab": {
          "base_uri": "https://localhost:8080/",
          "height": 84
        }
      },
      "source": [
        "# Checking to see if file was saved\n",
        "!ls -lh\n"
      ],
      "execution_count": 30,
      "outputs": [
        {
          "output_type": "stream",
          "text": [
            "total 28K\n",
            "-rw-r--r-- 1 root root  18K Oct 26 21:02 linearregression.h5\n",
            "-rw-r--r-- 1 root root 2.3K Oct 26 19:01 moore.csv\n",
            "drwxr-xr-x 1 root root 4.0K Oct 14 16:31 sample_data\n"
          ],
          "name": "stdout"
        }
      ]
    },
    {
      "cell_type": "code",
      "metadata": {
        "id": "6EfkgytUuCa2",
        "outputId": "cb6667ce-85aa-4884-f0f0-a92c39ae8205",
        "colab": {
          "base_uri": "https://localhost:8080/",
          "height": 50
        }
      },
      "source": [
        "model = tf.keras.models.load_model(\"linearregression.h5\")\n",
        "print(model.layers)\n",
        "np.allclose(yhat, yhat2)"
      ],
      "execution_count": 32,
      "outputs": [
        {
          "output_type": "stream",
          "text": [
            "[<tensorflow.python.keras.layers.core.Dense object at 0x7fdae23eed30>]\n"
          ],
          "name": "stdout"
        },
        {
          "output_type": "execute_result",
          "data": {
            "text/plain": [
              "True"
            ]
          },
          "metadata": {
            "tags": []
          },
          "execution_count": 32
        }
      ]
    },
    {
      "cell_type": "code",
      "metadata": {
        "id": "9Qd6Dtr-uhxK"
      },
      "source": [
        ""
      ],
      "execution_count": null,
      "outputs": []
    }
  ]
}